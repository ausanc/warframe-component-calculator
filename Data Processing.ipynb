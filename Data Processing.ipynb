{
 "cells": [
  {
   "cell_type": "markdown",
   "metadata": {},
   "source": [
    "## Loading in the data from [Warframe Items](https://github.com/WFCD/warframe-items)\n",
    "\n",
    "This uses the top level `data` folder from the above repo."
   ]
  },
  {
   "cell_type": "code",
   "execution_count": 1,
   "metadata": {},
   "outputs": [],
   "source": [
    "import json\n",
    "\n",
    "with open('./data/json/Primary.json') as json_file:\n",
    "    data_primary = json.load(json_file)\n",
    "\n",
    "with open('./data/json/Secondary.json') as json_file:\n",
    "    data_secondary = json.load(json_file)\n",
    "    \n",
    "with open('./data/json/Melee.json') as json_file:\n",
    "    data_melee = json.load(json_file)\n",
    "    \n",
    "with open('./data/json/Sentinels.json') as json_file:\n",
    "    data_sentinels = json.load(json_file)"
   ]
  },
  {
   "cell_type": "code",
   "execution_count": 2,
   "metadata": {},
   "outputs": [
    {
     "data": {
      "text/plain": [
       "'acceltra.png'"
      ]
     },
     "execution_count": 2,
     "metadata": {},
     "output_type": "execute_result"
    }
   ],
   "source": [
    "data_primary[0][\"imageName\"]"
   ]
  },
  {
   "cell_type": "markdown",
   "metadata": {},
   "source": [
    "## Generating itemComponents.js and item_names.py from the data"
   ]
  },
  {
   "cell_type": "code",
   "execution_count": 5,
   "metadata": {
    "scrolled": true
   },
   "outputs": [
    {
     "name": "stdout",
     "output_type": "stream",
     "text": [
      "[['Acceltra', 'acceltra.png'], ['Amprex', 'amprex.png'], ['Arca Plasmor', 'arca-plasmor.png'], ['Argonak', 'argonak.png'], ['Astilla', 'astilla.png'], ['Attica', 'attica.png'], ['Basmu', 'basmu.png'], ['Battacor', 'battacor.png'], ['Baza', 'baza.png'], ['Baza Prime', 'baza-prime.png'], ['Boar', 'boar.png'], ['Boar Prime', 'boar-prime.png'], ['Boltor', 'boltor.png'], ['Boltor Prime', 'boltor-prime.png'], ['Braton Prime', 'braton-prime.png'], ['Braton Vandal', 'braton-vandal.png'], ['Bubonico', 'bubonico.png'], ['Burston', 'burston.png'], ['Burston Prime', 'burston-prime.png'], ['Buzlok', 'buzlok.png'], ['Cernos', 'cernos.png'], ['Cernos Prime', 'cernos-prime.png'], ['Convectrix', 'convectrix.png'], ['Corinth', 'corinth.png'], ['Corinth Prime', 'corinth-prime.png'], ['Cortege', 'cortege.png'], ['Corvas', 'corvas.png'], ['Cryotra', 'cryotra.png'], ['Cyngas', 'cyngas.png'], ['Daikyu', 'daikyu.png'], ['Dera', 'dera.png'], ['Dera Vandal', 'dera-vandal.png'], ['Drakgoon', 'drakgoon.png'], ['Dread', 'dread.png'], ['Dual Decurion', 'dual-decurion.png'], ['Exergis', 'exergis.png'], ['Ferrox', 'ferrox.png'], ['Fluctus', 'fluctus.png'], ['Flux Rifle', 'flux-rifle.png'], ['Fulmin', 'fulmin.png'], ['Glaxion', 'glaxion.png'], ['Gorgon', 'gorgon.png'], ['Gorgon Wraith', 'gorgon-wraith.png'], ['Grakata', 'grakata.png'], ['Grattler', 'grattler.png'], ['Grinlok', 'grinlok.png'], ['Harpak', 'harpak.png'], ['Hek', 'hek.png'], ['Helstrum', 'helstrum.png'], ['Hema', 'hema.png'], ['Hind', 'hind.png'], ['Ignis', 'ignis.png'], ['Ignis Wraith', 'ignis-wraith.png'], ['Imperator', 'imperator.png'], ['Imperator Vandal', 'imperator-vandal.png'], ['Javlok', 'javlok.png'], ['Karak', 'karak.png'], ['Karak Wraith', 'karak-wraith.png'], ['Kohm', 'kohm.png'], ['Komorex', 'komorex.png'], ['Kuva Ayanga', 'kuva-ayanga.png'], ['Kuva Bramma', 'kuva-bramma.png'], ['Kuva Chakkhurr', 'kuva-chakkhurr.png'], ['Kuva Drakgoon', 'kuva-drakgoon.png'], ['Kuva Hind', 'kuva-hind.png'], ['Kuva Karak', 'kuva-karak.png'], ['Kuva Kohm', 'kuva-kohm.png'], ['Kuva Ogris', 'kuva-ogris.png'], ['Kuva Quartakk', 'kuva-quartakk.png'], ['Kuva Tonkor', 'kuva-tonkor.png'], ['Lanka', 'lanka.png'], ['Larkspur', 'larkspur.png'], ['Latron', 'latron.png'], ['Latron Prime', 'latron-prime.png'], ['Latron Wraith', 'latron-wraith.png'], ['Lenz', 'lenz.png'], ['Miter', 'miter.png'], ['Morgha', 'morgha.png'], ['Mutalist Cernos', 'mutalist-cernos.png'], ['Mutalist Quanta', 'mutalist-quanta.png'], ['Nagantaka', 'nagantaka.png'], ['Ogris', 'ogris.png'], ['Opticor', 'opticor.png'], ['Panthera', 'panthera.png'], ['Panthera Prime', 'panthera-prime.png'], ['Paracyst', 'paracyst.png'], ['Paris', 'paris.png'], ['Paris Prime', 'paris-prime.png'], ['Penta', 'penta.png'], ['Phaedra', 'phaedra.png'], ['Phage', 'phage.png'], ['Phantasma', 'phantasma.png'], ['Proboscis Cernos', 'proboscis-cernos.png'], ['Quanta', 'quanta.png'], ['Quartakk', 'quartakk.png'], ['Quellor', 'quellor.png'], ['Rubico', 'rubico.png'], ['Rubico Prime', 'rubico-prime.png'], ['Scourge', 'scourge.png'], ['Shedu', 'shedu.png'], ['Simulor', 'simulor.png'], ['Snipetron', 'snipetron.png'], ['Snipetron Vandal', 'snipetron-vandal.png'], ['Sobek', 'sobek.png'], ['Soma', 'soma.png'], ['Soma Prime', 'soma-prime.png'], ['Sporothrix', 'sporothrix.png'], ['Stahlta', 'stahlta.png'], ['Stradavar', 'stradavar.png'], ['Stradavar Prime', 'stradavar-prime.png'], ['Strun Wraith', 'strun-wraith.png'], ['Supra', 'supra.png'], ['Sybaris', 'sybaris.png'], ['Sybaris Prime', 'sybaris-prime.png'], ['Synapse', 'synapse.png'], ['Tazicor', 'tazicor.png'], ['Tenora', 'tenora.png'], ['Tetra', 'tetra.png'], ['Tiberon', 'tiberon.png'], ['Tiberon Prime', 'tiberon-prime.png'], ['Tigris', 'tigris.png'], ['Tigris Prime', 'tigris-prime.png'], ['Tonkor', 'tonkor.png'], ['Torid', 'torid.png'], ['Trumna', 'trumna.png'], ['Vectis', 'vectis.png'], ['Vectis Prime', 'vectis-prime.png'], ['Veldt', 'veldt.png'], ['Velocitus', 'velocitus.png'], ['Vulcax', 'vulcax.png'], ['Vulkar', 'vulkar.png'], ['Zarr', 'zarr.png'], ['Zenith', 'zenith.png'], ['Zhuge', 'zhuge.png'], ['Zhuge Prime', 'zhuge-prime.png']]\n",
      "[['Acrid', 'acrid.png'], ['Afuris', 'afuris.png'], ['Akarius', 'akarius.png'], ['Akbolto', 'akbolto.png'], ['Akbolto Prime', 'akbolto-prime.png'], ['Akbronco', 'akbronco.png'], ['Akbronco Prime', 'akbronco-prime.png'], ['Akjagara', 'akjagara.png'], ['Akjagara Prime', 'akjagara-prime.png'], ['Aklex', 'aklex.png'], ['Aklex Prime', 'aklex-prime.png'], ['Akmagnus', 'akmagnus.png'], ['Aksomati', 'aksomati.png'], ['Aksomati Prime', 'aksomati-prime.png'], ['Akstiletto', 'akstiletto.png'], ['Akstiletto Prime', 'akstiletto-prime.png'], ['Akvasto', 'akvasto.png'], ['Akvasto Prime', 'akvasto-prime.png'], ['Akzani', 'akzani.png'], ['Angstrum', 'angstrum.png'], ['Arca Scisco', 'arca-scisco.png'], ['Atomos', 'atomos.png'], ['Azima', 'azima.png'], ['Ballistica', 'ballistica.png'], ['Ballistica Prime', 'ballistica-prime.png'], ['Bolto', 'bolto.png'], ['Brakk', 'brakk.png'], ['Bronco', 'bronco.png'], ['Bronco Prime', 'bronco-prime.png'], ['Castanas', 'castanas.png'], ['Catabolyst', 'catabolyst.png'], ['Cestra', 'cestra.png'], ['Cyanex', 'cyanex.png'], ['Cycron', 'cycron.png'], ['Despair', 'despair.png'], ['Detron', 'detron.png'], ['Dual Cestra', 'dual-cestra.png'], ['Dual Toxocyst', 'dual-toxocyst.png'], ['Embolist', 'embolist.png'], ['Euphona Prime', 'euphona-prime.png'], ['Furis', 'furis.png'], ['Fusilai', 'fusilai.png'], ['Gammacor', 'gammacor.png'], ['Hikou', 'hikou.png'], ['Hikou Prime', 'hikou-prime.png'], ['Hystrix', 'hystrix.png'], ['Knell', 'knell.png'], ['Kohmak', 'kohmak.png'], ['Kraken', 'kraken.png'], ['Kulstar', 'kulstar.png'], ['Kunai', 'kunai.png'], ['Kuva Brakk', 'kuva-brakk.png'], ['Kuva Kraken', 'kuva-kraken.png'], ['Kuva Nukor', 'kuva-nukor.png'], ['Kuva Seer', 'kuva-seer.png'], ['Kuva Twin Stubbas', 'kuva-twin-stubbas.png'], ['Lato Vandal', 'lato-vandal.png'], ['Lex Prime', 'lex-prime.png'], ['Magnus', 'magnus.png'], ['Marelok', 'marelok.png'], ['Nukor', 'nukor.png'], ['Ocucor', 'ocucor.png'], ['Pandero', 'pandero.png'], ['Plinx', 'plinx.png'], ['Pox', 'pox.png'], ['Pyrana', 'pyrana.png'], ['Pyrana Prime', 'pyrana-prime.png'], ['Quatz', 'quatz.png'], ['Seer', 'seer.png'], ['Sepulcrum', 'sepulcrum.png'], ['Sicarus Prime', 'sicarus-prime.png'], ['Sonicor', 'sonicor.png'], ['Spectra', 'spectra.png'], ['Spectra Vandal', 'spectra-vandal.png'], ['Spira', 'spira.png'], ['Spira Prime', 'spira-prime.png'], ['Staticor', 'staticor.png'], ['Stubba', 'stubba.png'], ['Stug', 'stug.png'], ['Talons', 'talons.png'], ['Twin Grakatas', 'twin-grakatas.png'], ['Twin Gremlins', 'twin-gremlins.png'], ['Twin Kohmak', 'twin-kohmak.png'], ['Twin Rogga', 'twin-rogga.png'], ['Twin Vipers', 'twin-vipers.png'], ['Twin Vipers Wraith', 'twin-vipers-wraith.png'], ['Tysis', 'tysis.png'], ['Vasto', 'vasto.png'], ['Vasto Prime', 'vasto-prime.png'], ['Velox', 'velox.png'], ['Viper', 'viper.png'], ['Zakti', 'zakti.png'], ['Zakti Prime', 'zakti-prime.png'], ['Zymos', 'zymos.png']]\n",
      "[['Ack & Brunt', 'ack-&-brunt.png'], ['Amphis', 'amphis.png'], ['Anku', 'anku.png'], ['Ankyros', 'ankyros.png'], ['Ankyros Prime', 'ankyros-prime.png'], ['Arca Titron', 'arca-titron.png'], ['Arum Spinosa', 'arum-spinosa.png'], ['Atterax', 'atterax.png'], ['Bo', 'bo.png'], ['Bo Prime', 'bo-prime.png'], ['Boltace', 'boltace.png'], ['Broken Scepter', 'broken-scepter.png'], ['Broken War', 'broken-war.png'], ['Cassowar', 'cassowar.png'], ['Caustacyst', 'caustacyst.png'], ['Ceramic Dagger', 'ceramic-dagger.png'], ['Cerata', 'cerata.png'], ['Ceti Lacera', 'ceti-lacera.png'], ['Cobra & Crane', 'cobra-&-crane.png'], ['Cronus', 'cronus.png'], ['Dakra Prime', 'dakra-prime.png'], ['Dark Dagger', 'dark-dagger.png'], ['Dark Split-Sword', 'dark-split-sword.png'], ['Dark Sword', 'dark-sword.png'], ['Destreza', 'destreza.png'], ['Destreza Prime', 'destreza-prime.png'], ['Dragon Nikana', 'dragon-nikana.png'], ['Dual Cleavers', 'dual-cleavers.png'], ['Dual Ether', 'dual-ether.png'], ['Dual Heat Swords', 'dual-heat-swords.png'], ['Dual Ichor', 'dual-ichor.png'], ['Dual Kamas', 'dual-kamas.png'], ['Dual Kamas Prime', 'dual-kamas-prime.png'], ['Dual Keres', 'dual-keres.png'], ['Dual Raza', 'dual-raza.png'], ['Dual Skana', 'dual-skana.png'], ['Dual Zoren', 'dual-zoren.png'], ['Endura', 'endura.png'], ['Ether Daggers', 'ether-daggers.png'], ['Ether Reaper', 'ether-reaper.png'], ['Ether Sword', 'ether-sword.png'], ['Falcor', 'falcor.png'], ['Fang', 'fang.png'], ['Fang Prime', 'fang-prime.png'], ['Fragor', 'fragor.png'], ['Fragor Prime', 'fragor-prime.png'], ['Furax', 'furax.png'], ['Furax Wraith', 'furax-wraith.png'], ['Galatine', 'galatine.png'], ['Galatine Prime', 'galatine-prime.png'], ['Galvacord', 'galvacord.png'], ['Gazal Machete', 'gazal-machete.png'], ['Glaive', 'glaive.png'], ['Glaive Prime', 'glaive-prime.png'], ['Gram', 'gram.png'], ['Gram Prime', 'gram-prime.png'], ['Guandao', 'guandao.png'], ['Guandao Prime', 'guandao-prime.png'], ['Gunsen', 'gunsen.png'], ['Halikar', 'halikar.png'], ['Hate', 'hate.png'], ['Heat Dagger', 'heat-dagger.png'], ['Heat Sword', 'heat-sword.png'], ['Heliocor', 'heliocor.png'], ['Hirudo', 'hirudo.png'], ['Jat Kittag', 'jat-kittag.png'], ['Jat Kusar', 'jat-kusar.png'], ['Jaw Sword', 'jaw-sword.png'], ['Kama', 'kama.png'], ['Karyst', 'karyst.png'], ['Karyst Prime', 'karyst-prime.png'], ['Keratinos', 'keratinos.png'], ['Kesheg', 'kesheg.png'], ['Kestrel', 'kestrel.png'], ['Kogake', 'kogake.png'], ['Kogake Prime', 'kogake-prime.png'], ['Korrudo', 'korrudo.png'], ['Kreska', 'kreska.png'], ['Krohkur', 'krohkur.png'], ['Kronen', 'kronen.png'], ['Kronen Prime', 'kronen-prime.png'], ['Kuva Shildeg', 'kuva-shildeg.png'], ['Lacera', 'lacera.png'], ['Lecta', 'lecta.png'], ['Lesion', 'lesion.png'], ['Machete', 'machete.png'], ['Magistar', 'magistar.png'], ['Masseter', 'masseter.png'], ['Mios', 'mios.png'], ['Mire', 'mire.png'], ['Nami Skyla', 'nami-skyla.png'], ['Nami Skyla Prime', 'nami-skyla-prime.png'], ['Nami Solo', 'nami-solo.png'], ['Nikana', 'nikana.png'], ['Nikana Prime', 'nikana-prime.png'], ['Ninkondi', 'ninkondi.png'], ['Ninkondi Prime', 'ninkondi-prime.png'], ['Obex', 'obex.png'], ['Ohma', 'ohma.png'], ['Okina', 'okina.png'], ['Orthos', 'orthos.png'], ['Orthos Prime', 'orthos-prime.png'], ['Orvius', 'orvius.png'], ['Pangolin Prime', 'pangolin-prime.png'], ['Pangolin Sword', 'pangolin-sword.png'], ['Paracesis', 'paracesis.png'], ['Pathocyst', 'pathocyst.png'], ['Pennant', 'pennant.png'], ['Plasma Sword', 'plasma-sword.png'], ['Prova', 'prova.png'], ['Pulmonars', 'pulmonars.png'], ['Pupacyst', 'pupacyst.png'], ['Quassus', 'quassus.png'], ['Reaper Prime', 'reaper-prime.png'], ['Redeemer', 'redeemer.png'], ['Redeemer Prime', 'redeemer-prime.png'], ['Ripkas', 'ripkas.png'], ['Sarpa', 'sarpa.png'], ['Scindo', 'scindo.png'], ['Scindo Prime', 'scindo-prime.png'], ['Scoliac', 'scoliac.png'], ['Serro', 'serro.png'], ['Shaku', 'shaku.png'], ['Sheev', 'sheev.png'], ['Sibear', 'sibear.png'], ['Sigma & Octantis', 'sigma-&-octantis.png'], ['Silva & Aegis', 'silva-&-aegis.png'], ['Silva & Aegis Prime', 'silva-&-aegis-prime.png'], ['Skana', 'skana.png'], ['Skiajati', 'skiajati.png'], ['Stropha', 'stropha.png'], ['Sydon', 'sydon.png'], ['Tatsu', 'tatsu.png'], ['Tekko', 'tekko.png'], ['Tekko Prime', 'tekko-prime.png'], ['Tipedo', 'tipedo.png'], ['Tipedo Prime', 'tipedo-prime.png'], ['Tonbo', 'tonbo.png'], ['Twin Basolk', 'twin-basolk.png'], ['Twin Krohkur', 'twin-krohkur.png'], ['Venka', 'venka.png'], ['Venka Prime', 'venka-prime.png'], ['Vitrica', 'vitrica.png'], ['Volnus', 'volnus.png'], ['War', 'war.png'], ['Wolf Sledge', 'wolf-sledge.png'], ['Xoris', 'xoris.png'], ['Zenistar', 'zenistar.png']]\n",
      "[['Carrier', 'carrier.png'], ['Carrier Prime', 'carrier-prime.png'], ['Dethcube', 'dethcube.png'], ['Dethcube Prime', 'dethcube-prime.png'], ['Diriga', 'diriga.png'], ['Djinn', 'djinn.png'], ['Helios', 'helios.png'], ['Helios Prime', 'helios-prime.png'], ['Oxylus', 'oxylus.png'], ['Shade', 'shade.png'], ['Taxon', 'taxon.png'], ['Wyrm', 'wyrm.png'], ['Wyrm Prime', 'wyrm-prime.png']]\n"
     ]
    }
   ],
   "source": [
    "import pickle\n",
    "\n",
    "items = {}\n",
    "\n",
    "def extract_useful_data(data):\n",
    "    \"\"\"Extract the components needed for each items and store them against the item name in the items dictionary.\n",
    "    Also, return the names of items added to the dictionary from the current set of provided data.\n",
    "    \"\"\"\n",
    "    item_names = []\n",
    "    for item in data:\n",
    "        if \"components\" in item.keys():\n",
    "            item_components = [{\"name\": component[\"name\"], \"itemCount\": component[\"itemCount\"]} for component in item[\"components\"]]\n",
    "            item_components.append({\"name\": \"Credits\", \"itemCount\": item[\"buildPrice\"]})\n",
    "            items[item[\"name\"]] = item_components\n",
    "            item_names.append([item[\"name\"], item[\"imageName\"]])\n",
    "    return item_names\n",
    "\n",
    "# Extract the costs from all of the loaded in data sets\n",
    "item_names_primary = extract_useful_data(data_primary)\n",
    "item_names_secondary = extract_useful_data(data_secondary)\n",
    "item_names_melee = extract_useful_data(data_melee)\n",
    "item_names_sentinels = extract_useful_data(data_sentinels)\n",
    "       \n",
    "print(item_names_primary)\n",
    "print(item_names_secondary)\n",
    "print(item_names_melee)\n",
    "print(item_names_sentinels)\n",
    "\n",
    "category_data = [\n",
    "    {\"name\": \"Primary\", \"item_info\": item_names_primary},\n",
    "    {\"name\": \"Secondary\", \"item_info\": item_names_secondary},\n",
    "    {\"name\": \"Melee\", \"item_info\": item_names_melee},\n",
    "    {\"name\": \"Sentinels\", \"item_info\": item_names_sentinels},\n",
    "]\n",
    "\n",
    "# Save the category data so that main.py can access it easily\n",
    "pickle.dump( category_data, open(\"category_data.pickle\", \"wb\"))\n",
    "\n",
    "# Save the items dictionary as a javascript file, so that it can be directly loaded by the page\n",
    "with open(\"./webpage/js/item-components.js\", \"w\") as f:\n",
    "    f.write(\"var itemComponents = \" + json.dumps(items))"
   ]
  }
 ],
 "metadata": {
  "kernelspec": {
   "display_name": "Python 3",
   "language": "python",
   "name": "python3"
  },
  "language_info": {
   "codemirror_mode": {
    "name": "ipython",
    "version": 3
   },
   "file_extension": ".py",
   "mimetype": "text/x-python",
   "name": "python",
   "nbconvert_exporter": "python",
   "pygments_lexer": "ipython3",
   "version": "3.6.9"
  }
 },
 "nbformat": 4,
 "nbformat_minor": 4
}
