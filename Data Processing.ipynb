{
 "cells": [
  {
   "cell_type": "markdown",
   "metadata": {},
   "source": [
    "## Loading in the data from [Warframe Items](https://github.com/WFCD/warframe-items)\n",
    "\n",
    "This uses the top level `data` folder from the above repo."
   ]
  },
  {
   "cell_type": "code",
   "execution_count": 5,
   "metadata": {},
   "outputs": [],
   "source": [
    "import json\n",
    "\n",
    "with open('./data/json/Primary.json') as json_file:\n",
    "    data_primary = json.load(json_file)\n",
    "\n",
    "with open('./data/json/Secondary.json') as json_file:\n",
    "    data_secondary = json.load(json_file)"
   ]
  },
  {
   "cell_type": "markdown",
   "metadata": {},
   "source": [
    "## Generating itemComponents.js and item_names.py from the data"
   ]
  },
  {
   "cell_type": "code",
   "execution_count": 12,
   "metadata": {
    "scrolled": true
   },
   "outputs": [
    {
     "name": "stdout",
     "output_type": "stream",
     "text": [
      "['Acceltra', 'Amprex', 'Arca Plasmor', 'Argonak', 'Astilla', 'Attica', 'Basmu', 'Battacor', 'Baza', 'Baza Prime', 'Boar', 'Boar Prime', 'Boltor', 'Boltor Prime', 'Braton Prime', 'Braton Vandal', 'Bubonico', 'Burston', 'Burston Prime', 'Buzlok', 'Cernos', 'Cernos Prime', 'Convectrix', 'Corinth', 'Corinth Prime', 'Cortege', 'Corvas']\n",
      "['Acrid', 'Afuris', 'Akarius', 'Akbolto', 'Akbolto Prime', 'Akbronco', 'Akbronco Prime', 'Akjagara', 'Akjagara Prime', 'Aklex', 'Aklex Prime', 'Akmagnus', 'Aksomati', 'Aksomati Prime', 'Akstiletto', 'Akstiletto Prime', 'Akvasto', 'Akvasto Prime', 'Akzani', 'Angstrum', 'Arca Scisco', 'Atomos', 'Azima', 'Ballistica', 'Ballistica Prime', 'Bolto', 'Brakk', 'Bronco']\n"
     ]
    }
   ],
   "source": [
    "items = {}\n",
    "\n",
    "def extract_useful_data(data):\n",
    "    \"\"\"Extract the components needed for each items and store them against the item name in the items dictionary.\n",
    "    Also, return the names of items added to the dictionary from the current set of provided data.\n",
    "    \"\"\"\n",
    "    item_names = []\n",
    "    for item in data[:30]:\n",
    "        if \"components\" in item.keys():\n",
    "            item_components = [{\"name\": component[\"name\"], \"itemCount\": component[\"itemCount\"]} for component in item[\"components\"]]\n",
    "            item_components.append({\"name\": \"Credits\", \"itemCount\": item[\"buildPrice\"]})\n",
    "            items[item[\"name\"]] = item_components\n",
    "            item_names.append(item[\"name\"])\n",
    "    return item_names\n",
    "\n",
    "# Extract the costs from all of the loaded in data sets\n",
    "item_names_primary = extract_useful_data(data_primary)\n",
    "item_names_secondary = extract_useful_data(data_secondary)\n",
    "       \n",
    "print(item_names_primary)\n",
    "print(item_names_secondary)    \n",
    "\n",
    "# Save the items dictionary as a javascript file, so that it can be directly loaded by the page\n",
    "with open(\"./js/itemComponents.js\", \"w\") as f:\n",
    "    f.write(\"var itemComponents = \" + json.dumps(items))\n",
    "    \n",
    "# Generate a string of the data and save a python file. Horrendous bodge, but will be cut later when this notebook is\n",
    "# later integrated with main.py.\n",
    "item_names_string = (\"item_names_primary = \" +\n",
    "                     json.dumps(item_names_primary) +\n",
    "                     \"\\n\\nitem_names_secondary = \" +\n",
    "                     json.dumps(item_names_secondary))\n",
    "    \n",
    "with open(\"./item_names.py\", \"w\") as f:\n",
    "    f.write(item_names_string)"
   ]
  }
 ],
 "metadata": {
  "kernelspec": {
   "display_name": "Python 3",
   "language": "python",
   "name": "python3"
  },
  "language_info": {
   "codemirror_mode": {
    "name": "ipython",
    "version": 3
   },
   "file_extension": ".py",
   "mimetype": "text/x-python",
   "name": "python",
   "nbconvert_exporter": "python",
   "pygments_lexer": "ipython3",
   "version": "3.6.9"
  }
 },
 "nbformat": 4,
 "nbformat_minor": 4
}
