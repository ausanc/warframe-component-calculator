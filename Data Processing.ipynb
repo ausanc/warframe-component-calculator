{
 "cells": [
  {
   "cell_type": "markdown",
   "metadata": {},
   "source": [
    "## Loading in the data from [Warframe Items](https://github.com/WFCD/warframe-items)\n",
    "\n",
    "This uses the top level `data` folder from the above repo."
   ]
  },
  {
   "cell_type": "code",
   "execution_count": 7,
   "metadata": {},
   "outputs": [],
   "source": [
    "import json\n",
    "\n",
    "with open('./data/json/Primary.json') as json_file:\n",
    "    data_primary = json.load(json_file)\n",
    "\n",
    "with open('./data/json/Secondary.json') as json_file:\n",
    "    data_secondary = json.load(json_file)\n",
    "    \n",
    "with open('./data/json/Melee.json') as json_file:\n",
    "    data_melee = json.load(json_file)\n",
    "    \n",
    "with open('./data/json/Sentinels.json') as json_file:\n",
    "    data_sentinels = json.load(json_file)"
   ]
  },
  {
   "cell_type": "markdown",
   "metadata": {},
   "source": [
    "## Generating itemComponents.js and item_names.py from the data"
   ]
  },
  {
   "cell_type": "code",
   "execution_count": 8,
   "metadata": {
    "scrolled": true
   },
   "outputs": [
    {
     "name": "stdout",
     "output_type": "stream",
     "text": [
      "['Acceltra', 'Amprex', 'Arca Plasmor', 'Argonak', 'Astilla', 'Attica', 'Basmu', 'Battacor', 'Baza', 'Baza Prime', 'Boar', 'Boar Prime', 'Boltor', 'Boltor Prime', 'Braton Prime', 'Braton Vandal', 'Bubonico', 'Burston', 'Burston Prime', 'Buzlok', 'Cernos', 'Cernos Prime', 'Convectrix', 'Corinth', 'Corinth Prime', 'Cortege', 'Corvas', 'Cryotra', 'Cyngas', 'Daikyu', 'Dera', 'Dera Vandal', 'Drakgoon', 'Dread', 'Dual Decurion', 'Exergis', 'Ferrox', 'Fluctus', 'Flux Rifle', 'Fulmin', 'Glaxion', 'Gorgon', 'Gorgon Wraith', 'Grakata', 'Grattler', 'Grinlok', 'Harpak', 'Hek', 'Helstrum', 'Hema', 'Hind', 'Ignis', 'Ignis Wraith', 'Imperator', 'Imperator Vandal', 'Javlok', 'Karak', 'Karak Wraith', 'Kohm', 'Komorex', 'Kuva Ayanga', 'Kuva Bramma', 'Kuva Chakkhurr', 'Kuva Drakgoon', 'Kuva Hind', 'Kuva Karak', 'Kuva Kohm', 'Kuva Ogris', 'Kuva Quartakk', 'Kuva Tonkor', 'Lanka', 'Larkspur', 'Latron', 'Latron Prime', 'Latron Wraith', 'Lenz', 'Miter', 'Morgha', 'Mutalist Cernos', 'Mutalist Quanta', 'Nagantaka', 'Ogris', 'Opticor', 'Panthera', 'Panthera Prime', 'Paracyst', 'Paris', 'Paris Prime', 'Penta', 'Phaedra', 'Phage', 'Phantasma', 'Proboscis Cernos', 'Quanta', 'Quartakk', 'Quellor', 'Rubico', 'Rubico Prime', 'Scourge', 'Shedu', 'Simulor', 'Snipetron', 'Snipetron Vandal', 'Sobek', 'Soma', 'Soma Prime', 'Sporothrix', 'Stahlta', 'Stradavar', 'Stradavar Prime', 'Strun Wraith', 'Supra', 'Sybaris', 'Sybaris Prime', 'Synapse', 'Tazicor', 'Tenora', 'Tetra', 'Tiberon', 'Tiberon Prime', 'Tigris', 'Tigris Prime', 'Tonkor', 'Torid', 'Trumna', 'Vectis', 'Vectis Prime', 'Veldt', 'Velocitus', 'Vulcax', 'Vulkar', 'Zarr', 'Zenith', 'Zhuge', 'Zhuge Prime']\n",
      "['Acrid', 'Afuris', 'Akarius', 'Akbolto', 'Akbolto Prime', 'Akbronco', 'Akbronco Prime', 'Akjagara', 'Akjagara Prime', 'Aklex', 'Aklex Prime', 'Akmagnus', 'Aksomati', 'Aksomati Prime', 'Akstiletto', 'Akstiletto Prime', 'Akvasto', 'Akvasto Prime', 'Akzani', 'Angstrum', 'Arca Scisco', 'Atomos', 'Azima', 'Ballistica', 'Ballistica Prime', 'Bolto', 'Brakk', 'Bronco', 'Bronco Prime', 'Castanas', 'Catabolyst', 'Cestra', 'Cyanex', 'Cycron', 'Despair', 'Detron', 'Dual Cestra', 'Dual Toxocyst', 'Embolist', 'Euphona Prime', 'Furis', 'Fusilai', 'Gammacor', 'Hikou', 'Hikou Prime', 'Hystrix', 'Knell', 'Kohmak', 'Kraken', 'Kulstar', 'Kunai', 'Kuva Brakk', 'Kuva Kraken', 'Kuva Nukor', 'Kuva Seer', 'Kuva Twin Stubbas', 'Lato Vandal', 'Lex Prime', 'Magnus', 'Marelok', 'Nukor', 'Ocucor', 'Pandero', 'Plinx', 'Pox', 'Pyrana', 'Pyrana Prime', 'Quatz', 'Seer', 'Sepulcrum', 'Sicarus Prime', 'Sonicor', 'Spectra', 'Spectra Vandal', 'Spira', 'Spira Prime', 'Staticor', 'Stubba', 'Stug', 'Talons', 'Twin Grakatas', 'Twin Gremlins', 'Twin Kohmak', 'Twin Rogga', 'Twin Vipers', 'Twin Vipers Wraith', 'Tysis', 'Vasto', 'Vasto Prime', 'Velox', 'Viper', 'Zakti', 'Zakti Prime', 'Zymos']\n",
      "['Ack & Brunt', 'Amphis', 'Anku', 'Ankyros', 'Ankyros Prime', 'Arca Titron', 'Arum Spinosa', 'Atterax', 'Bo', 'Bo Prime', 'Boltace', 'Broken Scepter', 'Broken War', 'Cassowar', 'Caustacyst', 'Ceramic Dagger', 'Cerata', 'Ceti Lacera', 'Cobra & Crane', 'Cronus', 'Dakra Prime', 'Dark Dagger', 'Dark Split-Sword', 'Dark Sword', 'Destreza', 'Destreza Prime', 'Dragon Nikana', 'Dual Cleavers', 'Dual Ether', 'Dual Heat Swords', 'Dual Ichor', 'Dual Kamas', 'Dual Kamas Prime', 'Dual Keres', 'Dual Raza', 'Dual Skana', 'Dual Zoren', 'Endura', 'Ether Daggers', 'Ether Reaper', 'Ether Sword', 'Falcor', 'Fang', 'Fang Prime', 'Fragor', 'Fragor Prime', 'Furax', 'Furax Wraith', 'Galatine', 'Galatine Prime', 'Galvacord', 'Gazal Machete', 'Glaive', 'Glaive Prime', 'Gram', 'Gram Prime', 'Guandao', 'Guandao Prime', 'Gunsen', 'Halikar', 'Hate', 'Heat Dagger', 'Heat Sword', 'Heliocor', 'Hirudo', 'Jat Kittag', 'Jat Kusar', 'Jaw Sword', 'Kama', 'Karyst', 'Karyst Prime', 'Keratinos', 'Kesheg', 'Kestrel', 'Kogake', 'Kogake Prime', 'Korrudo', 'Kreska', 'Krohkur', 'Kronen', 'Kronen Prime', 'Kuva Shildeg', 'Lacera', 'Lecta', 'Lesion', 'Machete', 'Magistar', 'Masseter', 'Mios', 'Mire', 'Nami Skyla', 'Nami Skyla Prime', 'Nami Solo', 'Nikana', 'Nikana Prime', 'Ninkondi', 'Ninkondi Prime', 'Obex', 'Ohma', 'Okina', 'Orthos', 'Orthos Prime', 'Orvius', 'Pangolin Prime', 'Pangolin Sword', 'Paracesis', 'Pathocyst', 'Pennant', 'Plasma Sword', 'Prova', 'Pulmonars', 'Pupacyst', 'Quassus', 'Reaper Prime', 'Redeemer', 'Redeemer Prime', 'Ripkas', 'Sarpa', 'Scindo', 'Scindo Prime', 'Scoliac', 'Serro', 'Shaku', 'Sheev', 'Sibear', 'Sigma & Octantis', 'Silva & Aegis', 'Silva & Aegis Prime', 'Skana', 'Skiajati', 'Stropha', 'Sydon', 'Tatsu', 'Tekko', 'Tekko Prime', 'Tipedo', 'Tipedo Prime', 'Tonbo', 'Twin Basolk', 'Twin Krohkur', 'Venka', 'Venka Prime', 'Vitrica', 'Volnus', 'War', 'Wolf Sledge', 'Xoris', 'Zenistar']\n",
      "['Carrier', 'Carrier Prime', 'Dethcube', 'Dethcube Prime', 'Diriga', 'Djinn', 'Helios', 'Helios Prime', 'Oxylus', 'Shade', 'Taxon', 'Wyrm', 'Wyrm Prime']\n"
     ]
    }
   ],
   "source": [
    "items = {}\n",
    "\n",
    "def extract_useful_data(data):\n",
    "    \"\"\"Extract the components needed for each items and store them against the item name in the items dictionary.\n",
    "    Also, return the names of items added to the dictionary from the current set of provided data.\n",
    "    \"\"\"\n",
    "    item_names = []\n",
    "    for item in data:\n",
    "        if \"components\" in item.keys():\n",
    "            item_components = [{\"name\": component[\"name\"], \"itemCount\": component[\"itemCount\"]} for component in item[\"components\"]]\n",
    "            item_components.append({\"name\": \"Credits\", \"itemCount\": item[\"buildPrice\"]})\n",
    "            items[item[\"name\"]] = item_components\n",
    "            item_names.append(item[\"name\"])\n",
    "    return item_names\n",
    "\n",
    "# Extract the costs from all of the loaded in data sets\n",
    "item_names_primary = extract_useful_data(data_primary)\n",
    "item_names_secondary = extract_useful_data(data_secondary)\n",
    "item_names_melee = extract_useful_data(data_melee)\n",
    "item_names_sentinels = extract_useful_data(data_sentinels)\n",
    "       \n",
    "print(item_names_primary)\n",
    "print(item_names_secondary)\n",
    "print(item_names_melee)\n",
    "print(item_names_sentinels)\n",
    "\n",
    "# Save the items dictionary as a javascript file, so that it can be directly loaded by the page\n",
    "with open(\"./js/itemComponents.js\", \"w\") as f:\n",
    "    f.write(\"var itemComponents = \" + json.dumps(items))\n",
    "    \n",
    "# Generate a string of the data and save a python file. Horrendous bodge, but will be cut later when this notebook is\n",
    "# later integrated with main.py.\n",
    "item_names_string = (\"item_names_primary = \" +\n",
    "                     json.dumps(item_names_primary) +\n",
    "                     \"\\n\\nitem_names_secondary = \" +\n",
    "                     json.dumps(item_names_secondary) +\n",
    "                     \"\\n\\nitem_names_melee = \" +\n",
    "                     json.dumps(item_names_melee) +\n",
    "                     \"\\n\\nitem_names_sentinels = \" +\n",
    "                     json.dumps(item_names_sentinels))\n",
    "    \n",
    "with open(\"./item_names.py\", \"w\") as f:\n",
    "    f.write(item_names_string)"
   ]
  }
 ],
 "metadata": {
  "kernelspec": {
   "display_name": "Python 3",
   "language": "python",
   "name": "python3"
  },
  "language_info": {
   "codemirror_mode": {
    "name": "ipython",
    "version": 3
   },
   "file_extension": ".py",
   "mimetype": "text/x-python",
   "name": "python",
   "nbconvert_exporter": "python",
   "pygments_lexer": "ipython3",
   "version": "3.6.9"
  }
 },
 "nbformat": 4,
 "nbformat_minor": 4
}
